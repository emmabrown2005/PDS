{
 "cells": [
  {
   "cell_type": "markdown",
   "metadata": {},
   "source": [
    "## Exercise 01 - Data Types"
   ]
  },
  {
   "cell_type": "code",
   "execution_count": null,
   "metadata": {},
   "outputs": [],
   "source": [
    "# 1\n",
    "length = 56\n",
    "width = 34.56\n",
    "shape = \"rectangle\"\n",
    "\n",
    "# 2\n",
    "print(\"Data type of length:\", type(length))\n",
    "print(\"Data type of width:\", type(width))\n",
    "print(\"Data type of shape:\", type(shape))\n",
    "\n",
    "# 3\n",
    "area = length*width\n",
    "\n",
    "# 4\n",
    "perimeter = 2*(length+width)\n",
    "\n",
    "\n",
    "# 5\n",
    "print(area)\n",
    "print(perimeter)\n",
    "\n",
    "#6\n",
    "width_int = int(width)\n",
    "area_int = length * width_int\n",
    "\n",
    "#7\n",
    "are_types_equal = type(area) == type(area_int)\n",
    "print(\"Are the types of 'area' and 'area_int' the same?\", are_types_equal)\n",
    "\n",
    "# 8 9\n",
    "msg = f\"The area of the {shape} is {area_int}cm².\"\n",
    "\n",
    "# 10\n",
    "unit_of_measurement = msg.split()[-1]\n",
    "print(\"The unit of measurement is\", unit_of_measurement)\n"
   ]
  }
 ],
 "metadata": {
  "language_info": {
   "name": "python"
  }
 },
 "nbformat": 4,
 "nbformat_minor": 2
}
