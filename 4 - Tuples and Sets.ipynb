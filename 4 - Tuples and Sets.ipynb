{
 "cells": [
  {
   "attachments": {},
   "cell_type": "markdown",
   "metadata": {},
   "source": [
    "# Tuple\n",
    "\n",
    "A tuple is very similiar to a list but it has minor differences:\n",
    "- **Immutable**: Once created, it cannot be changed\n",
    "- **Ordered**: They have a defined order, it cannot be changed\n",
    "- **Indexed**: Like list\n",
    "- **Mixed Data Types**: Like list\n",
    "- **Fixed Size**: Since these are immutable their size cannot change as well\n",
    "\n",
    "## Creating a Tuple"
   ]
  },
  {
   "cell_type": "code",
   "execution_count": 3,
   "metadata": {},
   "outputs": [
    {
     "name": "stdout",
     "output_type": "stream",
     "text": [
      "('Python', 34, ['a', 'b'])\n"
     ]
    }
   ],
   "source": [
    "my_tuple = (\"Python\", 34, [\"a\", \"b\"])\n",
    "\n",
    "# you do not have to use brackets\n",
    "my_tuple = \"Python\", 34, [\"a\", \"b\"]\n",
    "\n",
    "print(my_tuple)"
   ]
  },
  {
   "attachments": {},
   "cell_type": "markdown",
   "metadata": {},
   "source": [
    "## Accessing Values"
   ]
  },
  {
   "cell_type": "code",
   "execution_count": null,
   "metadata": {},
   "outputs": [],
   "source": [
    "# print the first element\n",
    "print(my_tuple[])\n",
    "\n",
    "# print the first two elements\n",
    "\n",
    "\n",
    "#print the last element in the last element\n"
   ]
  },
  {
   "attachments": {},
   "cell_type": "markdown",
   "metadata": {},
   "source": [
    "## Additional Operations"
   ]
  },
  {
   "cell_type": "code",
   "execution_count": 6,
   "metadata": {},
   "outputs": [
    {
     "name": "stdout",
     "output_type": "stream",
     "text": [
      "2\n",
      "['Python', 'SQL']\n",
      "True\n"
     ]
    }
   ],
   "source": [
    "my_tuple = (\"Python\", \"SQL\")\n",
    "# length \n",
    "print(len(my_tuple))\n",
    "\n",
    "# sort\n",
    "print(sorted(my_tuple))\n",
    "\n",
    "# value exists?\n",
    "print(\"Python\" in my_tuple)"
   ]
  },
  {
   "attachments": {},
   "cell_type": "markdown",
   "metadata": {},
   "source": [
    "# Set\n",
    "\n",
    "A set is a collection that is unordered and unindexed \n",
    "\n",
    "- **unordered and unindexed**: you cannot access items by referring to an index or key\n",
    "-  **mutable**: you can add and remove items\n",
    "- **unique elements**: all values in set are unique, and you cannot have repeated values\n",
    "- **dynamic size**: size can change automatically\n",
    "- **mixed data types**: set can contain various data types\n",
    "\n",
    "## Creating a Set\n"
   ]
  },
  {
   "cell_type": "code",
   "execution_count": 7,
   "metadata": {},
   "outputs": [
    {
     "name": "stdout",
     "output_type": "stream",
     "text": [
      "{'Kiwi', 'Apple', 'Pear'}\n"
     ]
    }
   ],
   "source": [
    "my_set = {\"Apple\", \"Kiwi\", \"Pear\"}\n",
    "\n",
    "# other options is to use a set()\n",
    "my_set = set([\"Apple\", \"Kiwi\", \"Pear\"])\n",
    "\n",
    "print(my_set)"
   ]
  },
  {
   "cell_type": "code",
   "execution_count": 8,
   "metadata": {},
   "outputs": [
    {
     "name": "stdout",
     "output_type": "stream",
     "text": [
      "{'Kiwi', 'Apple', 'Pear'}\n"
     ]
    }
   ],
   "source": [
    "# if you add a pre-existing value it will be ignored\n",
    "my_set.add(\"Apple\")\n",
    "\n",
    "print(my_set)"
   ]
  },
  {
   "cell_type": "code",
   "execution_count": 9,
   "metadata": {},
   "outputs": [
    {
     "name": "stdout",
     "output_type": "stream",
     "text": [
      "True\n",
      "False\n"
     ]
    }
   ],
   "source": [
    "# check if a value exists\n",
    "print(\"Pear\" in my_set)\n",
    "print(\"Cherry\" in my_set)"
   ]
  },
  {
   "cell_type": "code",
   "execution_count": 10,
   "metadata": {},
   "outputs": [
    {
     "name": "stdout",
     "output_type": "stream",
     "text": [
      "{'Java', 'Python', 'C++', 'SQL'}\n",
      "{'Python'}\n",
      "{'Java', 'SQL'}\n",
      "{'C++'}\n"
     ]
    }
   ],
   "source": [
    "set_a = {\"Python\", \"SQL\", \"Java\"}\n",
    "set_b = {\"Python\", \"C++\"}\n",
    "\n",
    "print(set_a | set_b) # union\n",
    "print(set_a & set_b) # intersect \n",
    "print(set_a - set_b) # difference\n",
    "print(set_b - set_a) # difference"
   ]
  }
 ],
 "metadata": {
  "kernelspec": {
   "display_name": "Python 3",
   "language": "python",
   "name": "python3"
  },
  "language_info": {
   "codemirror_mode": {
    "name": "ipython",
    "version": 3
   },
   "file_extension": ".py",
   "mimetype": "text/x-python",
   "name": "python",
   "nbconvert_exporter": "python",
   "pygments_lexer": "ipython3",
   "version": "3.11.4"
  },
  "orig_nbformat": 4
 },
 "nbformat": 4,
 "nbformat_minor": 2
}
