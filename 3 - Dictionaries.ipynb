{
 "cells": [
  {
   "attachments": {},
   "cell_type": "markdown",
   "metadata": {},
   "source": [
    "# Dictionaries\n",
    "\n",
    "Data structure that contains key-value pairs.\n",
    "\n",
    "- **Key-value pair**: the key acts as an id to retrieve corresponding value\n",
    "- **Unordered**: Not sorted, and it does not have to be\n",
    "- **Mutable**: You can change, add, modify key-value pairs\n",
    "- **Unique Keys**: Every key must be unique\n",
    "- **Dynamic Size**: It can grow or shrink as necessary\n",
    "- **Mixed Data Types**: Both key and value can have any data type"
   ]
  },
  {
   "cell_type": "code",
   "execution_count": 3,
   "metadata": {},
   "outputs": [
    {
     "name": "stdout",
     "output_type": "stream",
     "text": [
      "{'name': 'Alan', 'surname': 'Gatt', 'age': 42}\n"
     ]
    }
   ],
   "source": [
    "# create a dictionary with your name, surname, and age\n",
    "# print it\n",
    "my_dict = {\"name\": \"Alan\", \"surname\": \"Gatt\", \"age\": 42}\n",
    "print(my_dict)\n"
   ]
  },
  {
   "attachments": {},
   "cell_type": "markdown",
   "metadata": {},
   "source": [
    "## Adding Elements"
   ]
  },
  {
   "cell_type": "code",
   "execution_count": 4,
   "metadata": {},
   "outputs": [
    {
     "name": "stdout",
     "output_type": "stream",
     "text": [
      "{'name': 'Alan', 'surname': 'Gatt', 'age': 42, 'locality': 'Senglea', 'hobbies': ['Eating', 'Drinking', 'Pole Vaulting'], 'grades': {'SQL': 70, 'Python': 20, 'English': 90}}\n"
     ]
    }
   ],
   "source": [
    "# add your locality\n",
    "my_dict[\"locality\"] = \"Senglea\"\n",
    "\n",
    "# add a list of hobbies (3)\n",
    "my_dict[\"hobbies\"] = [\"Eating\", \"Drinking\", \"Pole Vaulting\"]\n",
    "\n",
    "# add a dictionary of grades (3)\n",
    "my_dict[\"grades\"] = {\"SQL\": 70, \"Python\" : 20, \"English\": 90}\n",
    "\n",
    "# print the dictionary\n",
    "print(my_dict)"
   ]
  },
  {
   "attachments": {},
   "cell_type": "markdown",
   "metadata": {},
   "source": [
    "## Accessing Elements\n"
   ]
  },
  {
   "cell_type": "code",
   "execution_count": 5,
   "metadata": {},
   "outputs": [
    {
     "name": "stdout",
     "output_type": "stream",
     "text": [
      "Alan\n",
      "42\n",
      "['Eating', 'Drinking', 'Pole Vaulting']\n"
     ]
    },
    {
     "name": "stderr",
     "output_type": "stream",
     "text": [
      "<>:14: SyntaxWarning: str indices must be integers or slices, not str; perhaps you missed a comma?\n",
      "<>:14: SyntaxWarning: str indices must be integers or slices, not str; perhaps you missed a comma?\n"
     ]
    },
    {
     "ename": "KeyError",
     "evalue": "'s'",
     "output_type": "error",
     "traceback": [
      "\u001b[1;31m---------------------------------------------------------------------------\u001b[0m",
      "\u001b[1;31mKeyError\u001b[0m                                  Traceback (most recent call last)",
      "Cell \u001b[1;32mIn[5], line 11\u001b[0m\n\u001b[0;32m      8\u001b[0m \u001b[39mprint\u001b[39m(my_dict[\u001b[39m\"\u001b[39m\u001b[39mhobbies\u001b[39m\u001b[39m\"\u001b[39m])\n\u001b[0;32m     10\u001b[0m \u001b[39m#print the last hobby\u001b[39;00m\n\u001b[1;32m---> 11\u001b[0m \u001b[39mprint\u001b[39m(my_dict[\u001b[39m\"\u001b[39;49m\u001b[39mhobbies\u001b[39;49m\u001b[39m\"\u001b[39;49m[\u001b[39m-\u001b[39;49m\u001b[39m1\u001b[39;49m]])\n\u001b[0;32m     13\u001b[0m \u001b[39m#print the grade of the second subject\u001b[39;00m\n\u001b[0;32m     14\u001b[0m \u001b[39mprint\u001b[39m(my_dict[\u001b[39m\"\u001b[39m\u001b[39mgrades\u001b[39m\u001b[39m\"\u001b[39m[\u001b[39m\"\u001b[39m\u001b[39mPython\u001b[39m\u001b[39m\"\u001b[39m]])\n",
      "\u001b[1;31mKeyError\u001b[0m: 's'"
     ]
    }
   ],
   "source": [
    "#print the name \n",
    "print(my_dict[\"name\"])\n",
    "\n",
    "#print the age\n",
    "print(my_dict[\"age\"])\n",
    "\n",
    "#print the hobbies\n",
    "print(my_dict[\"hobbies\"])\n",
    "\n",
    "#print the last hobby\n",
    "print(my_dict[\"hobbies\"[-1]])\n",
    "\n",
    "#print the grade of the second subject\n",
    "print(my_dict[\"grades\"[\"Python\"]])"
   ]
  },
  {
   "attachments": {},
   "cell_type": "markdown",
   "metadata": {},
   "source": [
    "## Updating a Value\n"
   ]
  },
  {
   "cell_type": "code",
   "execution_count": 7,
   "metadata": {},
   "outputs": [
    {
     "name": "stdout",
     "output_type": "stream",
     "text": [
      "{'name': 'Alan', 'surname': 'Gatt', 'age': 42, 'locality': 'Safi', 'hobbies': ['Eating', 'Sky Diving', 'Pole Vaulting'], 'grades': {'SQL': 70, 'Python': 20, 'English': 90}}\n",
      "{'name': 'Alan', 'surname': 'Gatt', 'age': 42, 'locality': 'Safi', 'hobbies': ['Eating', 'Sky Diving', 'Pole Vaulting'], 'grades': {'SQL': 70, 'Python': 20, 'English': 90}}\n",
      "{'name': 'Alan', 'surname': 'Gatt', 'age': 42, 'locality': 'Safi', 'hobbies': ['Eating', 'Sky Diving', 'Pole Vaulting'], 'grades': {'SQL': 70, 'Python': 90, 'English': 90}}\n"
     ]
    }
   ],
   "source": [
    "my_dict[\"locality\"] = \"Safi\"\n",
    "print(my_dict)\n",
    "\n",
    "my_dict[\"hobbies\"][1]= \"Sky Diving\"\n",
    "print(my_dict)\n",
    "\n",
    "my_dict[\"grades\"][\"Python\"]=90\n",
    "print(my_dict)"
   ]
  },
  {
   "attachments": {},
   "cell_type": "markdown",
   "metadata": {},
   "source": [
    "## Deleting Elements"
   ]
  },
  {
   "cell_type": "code",
   "execution_count": 8,
   "metadata": {},
   "outputs": [
    {
     "name": "stdout",
     "output_type": "stream",
     "text": [
      "{'name': 'Alan', 'surname': 'Gatt', 'age': 42, 'locality': 'Safi', 'hobbies': ['Eating', 'Sky Diving', 'Pole Vaulting'], 'grades': {'SQL': 70, 'Python': 90, 'English': 90}}\n",
      "{'name': 'Alan', 'surname': 'Gatt', 'age': 42, 'locality': 'Safi', 'hobbies': ['Eating', 'Sky Diving', 'Pole Vaulting']}\n"
     ]
    }
   ],
   "source": [
    "print(my_dict)\n",
    "del(my_dict[\"grades\"])\n",
    "print(my_dict)"
   ]
  },
  {
   "attachments": {},
   "cell_type": "markdown",
   "metadata": {},
   "source": [
    "## Accessing Different Components\n",
    "\n",
    "- `dict.items()` - returns a list containing tuples\n",
    "- `dict.keys()` - returns a list of keys\n",
    "- `dict.values()` - returns a list of values "
   ]
  },
  {
   "cell_type": "code",
   "execution_count": 10,
   "metadata": {},
   "outputs": [
    {
     "name": "stdout",
     "output_type": "stream",
     "text": [
      "('name', 'Alan')\n",
      "('surname', 'Gatt')\n",
      "('age', 42)\n",
      "('locality', 'Safi')\n",
      "('hobbies', ['Eating', 'Sky Diving', 'Pole Vaulting'])\n"
     ]
    }
   ],
   "source": [
    "for entry in my_dict.items():\n",
    "    print(entry)"
   ]
  },
  {
   "cell_type": "code",
   "execution_count": 12,
   "metadata": {},
   "outputs": [
    {
     "name": "stdout",
     "output_type": "stream",
     "text": [
      "name\n",
      "surname\n",
      "age\n",
      "locality\n",
      "hobbies\n"
     ]
    }
   ],
   "source": [
    "for key in my_dict.keys():\n",
    "    print(key)"
   ]
  },
  {
   "attachments": {},
   "cell_type": "markdown",
   "metadata": {},
   "source": [
    "## Checking for Key Existence "
   ]
  },
  {
   "cell_type": "code",
   "execution_count": 13,
   "metadata": {},
   "outputs": [
    {
     "name": "stdout",
     "output_type": "stream",
     "text": [
      "True\n",
      "False\n"
     ]
    }
   ],
   "source": [
    "print(\"locality\" in my_dict)\n",
    "print(\"car\" in my_dict)"
   ]
  }
 ],
 "metadata": {
  "kernelspec": {
   "display_name": "Python 3",
   "language": "python",
   "name": "python3"
  },
  "language_info": {
   "codemirror_mode": {
    "name": "ipython",
    "version": 3
   },
   "file_extension": ".py",
   "mimetype": "text/x-python",
   "name": "python",
   "nbconvert_exporter": "python",
   "pygments_lexer": "ipython3",
   "version": "3.11.4"
  },
  "orig_nbformat": 4
 },
 "nbformat": 4,
 "nbformat_minor": 2
}
