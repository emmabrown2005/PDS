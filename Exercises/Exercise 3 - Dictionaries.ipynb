{
 "cells": [
  {
   "attachments": {},
   "cell_type": "markdown",
   "metadata": {},
   "source": [
    "# Exercise 3 - Dictionaries"
   ]
  },
  {
   "cell_type": "code",
   "execution_count": 4,
   "metadata": {},
   "outputs": [
    {
     "name": "stdout",
     "output_type": "stream",
     "text": [
      "{'title': 'Overwatch', 'Price': 10.99, 'Platforms': ['Xbox', 'PC', 'PlayStation']}\n",
      "9.891\n",
      "{'title': 'Overwatch', 'Price': 10.99, 'Platforms': ['Xbox', 'PC', 'PlayStation'], 'Rating': '8.5'}\n",
      "{'title': 'Overwatch', 'Price': 10.99, 'Platforms': ['Xbox', 'PC', 'PlayStation'], 'Rating': '8.5', 'Year_Released': '2012'}\n",
      "{'title': 'Overwatch', 'Price': 10.99, 'Rating': '8.5', 'Year_Released': '2012'}\n",
      "title\n",
      "Price\n",
      "Rating\n",
      "Year_Released\n"
     ]
    }
   ],
   "source": [
    "#1\n",
    "game = {\"title\": \"Overwatch\", \"Price\": 10.99}\n",
    "\n",
    "game[\"Platforms\"] = [\"Xbox\", \"PC\", \"PlayStation\"]\n",
    "print(game)\n",
    "\n",
    "#2\n",
    "print(game[\"Price\"]*0.9)\n",
    "\n",
    "#3\n",
    "game[\"Rating\"] = \"8.5\"\n",
    "print(game)\n",
    "\n",
    "#4\n",
    "game[\"Year_Released\"] = \"2012\"\n",
    "print(game)\n",
    "\n",
    "#5\n",
    "del(game[\"Platforms\"])\n",
    "\n",
    "#6\n",
    "print(game)\n",
    "\n",
    "#7\n",
    "for key in game.keys():\n",
    "    print(key)\n",
    "\n",
    "#8\n",
    "game_list = list(game.values())\n",
    "print(\"Values in the list:\")\n",
    "print(game_list)   \n",
    "\n",
    "#9\n",
    "game_additional = {\n",
    "    'publisher': 'Gamer Studios',\n",
    "    'dlc_available': True\n",
    "}\n",
    "\n",
    "#10\n",
    "game.update(game_additional)\n",
    "print(\"Merged game details:\", game)"
   ]
  }
 ],
 "metadata": {
  "kernelspec": {
   "display_name": "Python 3",
   "language": "python",
   "name": "python3"
  },
  "language_info": {
   "codemirror_mode": {
    "name": "ipython",
    "version": 3
   },
   "file_extension": ".py",
   "mimetype": "text/x-python",
   "name": "python",
   "nbconvert_exporter": "python",
   "pygments_lexer": "ipython3",
   "version": "3.11.4"
  },
  "orig_nbformat": 4
 },
 "nbformat": 4,
 "nbformat_minor": 2
}
