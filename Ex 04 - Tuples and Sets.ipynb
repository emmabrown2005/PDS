{
 "cells": [
  {
   "cell_type": "markdown",
   "metadata": {},
   "source": [
    "## Exercise 4 - Tuples and Sets"
   ]
  },
  {
   "cell_type": "code",
   "execution_count": null,
   "metadata": {},
   "outputs": [],
   "source": [
    "# 1\n",
    "my_colours = {'red', 'green', 'fuchsia'}\n",
    "\n",
    "# 2\n",
    "used_colours = ['red', 'orange', 'purple']\n",
    "\n",
    "# 3\n",
    "for color in used_colours:\n",
    "    my_colours.add(color)\n",
    "\n",
    "# 4\n",
    "print(\"my_colours set:\", my_colours)\n",
    "\n",
    "# 5\n",
    "interesting_colours = {'fuchsia', 'turquoise'}\n",
    "\n",
    "# 6\n",
    "common_elements = my_colours.intersection(interesting_colours)\n",
    "print(\"Common elements:\", common_elements)\n",
    "\n",
    "# 7\n",
    "brown_in_my_colours = 'brown' in my_colours\n",
    "print(\"Does brown appear in my_colours?\", brown_in_my_colours)\n",
    "\n",
    "# 8\n",
    "frozen_colours = frozenset(my_colours)\n",
    "\n",
    "# 9\n",
    "try:\n",
    "    frozen_colours.add('brown')\n",
    "except AttributeError:\n",
    "    print(\"Cannot add to a frozenset :(\")\n"
   ]
  }
 ],
 "metadata": {
  "language_info": {
   "name": "python"
  }
 },
 "nbformat": 4,
 "nbformat_minor": 2
}
