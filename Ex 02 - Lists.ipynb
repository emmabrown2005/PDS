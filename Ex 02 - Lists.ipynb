{
 "cells": [
  {
   "cell_type": "markdown",
   "metadata": {},
   "source": [
    "## Exercise 2 - Lists"
   ]
  },
  {
   "cell_type": "code",
   "execution_count": null,
   "metadata": {},
   "outputs": [
    {
     "ename": "",
     "evalue": "",
     "output_type": "error",
     "traceback": [
      "\u001b[1;31mRunning cells with 'c:\\Users\\ictstudent\\AppData\\Local\\Microsoft\\WindowsApps\\python3.11.exe' requires the ipykernel package.\n",
      "\u001b[1;31mRun the following command to install 'ipykernel' into the Python environment. \n",
      "\u001b[1;31mCommand: 'c:/Users/ictstudent/AppData/Local/Microsoft/WindowsApps/python3.11.exe -m pip install ipykernel -U --user --force-reinstall'"
     ]
    }
   ],
   "source": [
    "# 1\n",
    "details = [\"Emma\", 19, [\"cooking\", \"sewing\", \"pilates\"]]\n",
    "\n",
    "# 2\n",
    "print(f\"My age is {details[1]}\")\n",
    "\n",
    "# 3\n",
    "last_hobby = details[2][-1]\n",
    "print(f\"Last hobby: {last_hobby}\")\n",
    "\n",
    "# 4\n",
    "details.append(\"emma@gmail.com\")\n",
    "\n",
    "# 5\n",
    "print(details)\n",
    "\n",
    "# 6\n",
    "details[2].append(\"chess\")\n",
    "\n",
    "# 7\n",
    "print(details)\n",
    "\n",
    "# 8\n",
    "details_copy = []\n",
    "\n",
    "# 9\n",
    "for item in details:\n",
    "    details_copy.append(item)\n",
    "\n",
    "# 10\n",
    "print(details_copy)\n",
    "\n",
    "# 11\n",
    "details_copy.remove(\"emma@gmail.com\")\n",
    "\n",
    "# 12\n",
    "total_hobbies = len(details[2])\n",
    "print(f\"I have {total_hobbies} hobbies\")\n",
    "\n",
    "# 13\n",
    "details_copy.sort()\n",
    "print(details_copy)"
   ]
  }
 ],
 "metadata": {
  "kernelspec": {
   "display_name": "Python 3",
   "language": "python",
   "name": "python3"
  },
  "language_info": {
   "name": "python",
   "version": "3.11.8"
  }
 },
 "nbformat": 4,
 "nbformat_minor": 2
}
